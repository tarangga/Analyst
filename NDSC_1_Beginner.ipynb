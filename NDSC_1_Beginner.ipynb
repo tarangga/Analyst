{
  "nbformat": 4,
  "nbformat_minor": 0,
  "metadata": {
    "colab": {
      "name": "NDSC#1 Beginner",
      "provenance": [],
      "collapsed_sections": [],
      "mount_file_id": "1QyxjS5YOvRf72dZsx0lHoOcVycLgvK-n",
      "authorship_tag": "ABX9TyNnWFcJDz73hag1Ad3GYu+5"
    },
    "kernelspec": {
      "name": "python3",
      "display_name": "Python 3"
    }
  },
  "cells": [
    {
      "cell_type": "code",
      "metadata": {
        "id": "wH6U6BUzBpNG"
      },
      "source": [
        "import zipfile\n",
        "z = zipfile.ZipFile('/content/payment-id-ndsc-2020.zip')\n",
        "z.extractall('/content/drive/MyDrive/Colab Data/NDSC')\n",
        "z.close()"
      ],
      "execution_count": null,
      "outputs": []
    },
    {
      "cell_type": "code",
      "metadata": {
        "id": "r40bTcdfCZX5"
      },
      "source": [
        "import pandas as pd"
      ],
      "execution_count": null,
      "outputs": []
    },
    {
      "cell_type": "code",
      "metadata": {
        "colab": {
          "base_uri": "https://localhost:8080/"
        },
        "id": "5QoPAL74CQip",
        "outputId": "89b9d532-ffb6-462a-c335-91c30b8377b0"
      },
      "source": [
        "bank = pd.read_csv('/content/drive/MyDrive/Colab Data/NDSC/bank_statement.csv')\n",
        "bank.info()\n",
        "bank.desc = bank.desc.apply(lambda x: x.split(' '))\n",
        "bank.head()"
      ],
      "execution_count": null,
      "outputs": [
        {
          "output_type": "stream",
          "text": [
            "<class 'pandas.core.frame.DataFrame'>\n",
            "RangeIndex: 240000 entries, 0 to 239999\n",
            "Data columns (total 3 columns):\n",
            " #   Column       Non-Null Count   Dtype  \n",
            "---  ------       --------------   -----  \n",
            " 0   stmt_id      240000 non-null  int64  \n",
            " 1   stmt_amount  240000 non-null  float64\n",
            " 2   desc         240000 non-null  object \n",
            "dtypes: float64(1), int64(1), object(1)\n",
            "memory usage: 5.5+ MB\n"
          ],
          "name": "stdout"
        },
        {
          "output_type": "execute_result",
          "data": {
            "text/html": [
              "<div>\n",
              "<style scoped>\n",
              "    .dataframe tbody tr th:only-of-type {\n",
              "        vertical-align: middle;\n",
              "    }\n",
              "\n",
              "    .dataframe tbody tr th {\n",
              "        vertical-align: top;\n",
              "    }\n",
              "\n",
              "    .dataframe thead th {\n",
              "        text-align: right;\n",
              "    }\n",
              "</style>\n",
              "<table border=\"1\" class=\"dataframe\">\n",
              "  <thead>\n",
              "    <tr style=\"text-align: right;\">\n",
              "      <th></th>\n",
              "      <th>stmt_id</th>\n",
              "      <th>stmt_amount</th>\n",
              "      <th>desc</th>\n",
              "    </tr>\n",
              "  </thead>\n",
              "  <tbody>\n",
              "    <tr>\n",
              "      <th>0</th>\n",
              "      <td>1</td>\n",
              "      <td>100.00</td>\n",
              "      <td>[INSTANT, TRANSFER, , , , BAW, CGANBAWI, YIWHI...</td>\n",
              "    </tr>\n",
              "    <tr>\n",
              "      <th>1</th>\n",
              "      <td>2</td>\n",
              "      <td>23.77</td>\n",
              "      <td>[, , , , WOOG, CARIZA, NIWSI, YO, ]</td>\n",
              "    </tr>\n",
              "    <tr>\n",
              "      <th>2</th>\n",
              "      <td>3</td>\n",
              "      <td>18.00</td>\n",
              "      <td>[ZOMAZAW, MABIX, ATMA, *, , BUGW, *, KZBUGW, -...</td>\n",
              "    </tr>\n",
              "    <tr>\n",
              "      <th>3</th>\n",
              "      <td>4</td>\n",
              "      <td>21.87</td>\n",
              "      <td>[TRANSFER, GO, LA/FA, , , AHHA, PUYIMA, , , , ...</td>\n",
              "    </tr>\n",
              "    <tr>\n",
              "      <th>4</th>\n",
              "      <td>5</td>\n",
              "      <td>53.68</td>\n",
              "      <td>[INSTANT, TRANSFER, , , , FABZUN, WIQAT, JIW, ...</td>\n",
              "    </tr>\n",
              "  </tbody>\n",
              "</table>\n",
              "</div>"
            ],
            "text/plain": [
              "   stmt_id  stmt_amount                                               desc\n",
              "0        1       100.00  [INSTANT, TRANSFER, , , , BAW, CGANBAWI, YIWHI...\n",
              "1        2        23.77                [, , , , WOOG, CARIZA, NIWSI, YO, ]\n",
              "2        3        18.00  [ZOMAZAW, MABIX, ATMA, *, , BUGW, *, KZBUGW, -...\n",
              "3        4        21.87  [TRANSFER, GO, LA/FA, , , AHHA, PUYIMA, , , , ...\n",
              "4        5        53.68  [INSTANT, TRANSFER, , , , FABZUN, WIQAT, JIW, ..."
            ]
          },
          "metadata": {
            "tags": []
          },
          "execution_count": 88
        }
      ]
    },
    {
      "cell_type": "code",
      "metadata": {
        "colab": {
          "base_uri": "https://localhost:8080/",
          "height": 374
        },
        "id": "kX-35HsUCYZM",
        "outputId": "16ae9b02-90a8-4821-e86a-a72ddb437015"
      },
      "source": [
        "check = pd.read_csv('/content/drive/MyDrive/Colab Data/NDSC/checkout.csv')\n",
        "check.info()\n",
        "check.buyer_name = check.buyer_name.apply(lambda x:x.split(' '))\n",
        "check.head()"
      ],
      "execution_count": null,
      "outputs": [
        {
          "output_type": "stream",
          "text": [
            "<class 'pandas.core.frame.DataFrame'>\n",
            "RangeIndex: 240000 entries, 0 to 239999\n",
            "Data columns (total 3 columns):\n",
            " #   Column      Non-Null Count   Dtype  \n",
            "---  ------      --------------   -----  \n",
            " 0   ckt_id      240000 non-null  int64  \n",
            " 1   ckt_amount  240000 non-null  float64\n",
            " 2   buyer_name  240000 non-null  object \n",
            "dtypes: float64(1), int64(1), object(1)\n",
            "memory usage: 5.5+ MB\n"
          ],
          "name": "stdout"
        },
        {
          "output_type": "execute_result",
          "data": {
            "text/html": [
              "<div>\n",
              "<style scoped>\n",
              "    .dataframe tbody tr th:only-of-type {\n",
              "        vertical-align: middle;\n",
              "    }\n",
              "\n",
              "    .dataframe tbody tr th {\n",
              "        vertical-align: top;\n",
              "    }\n",
              "\n",
              "    .dataframe thead th {\n",
              "        text-align: right;\n",
              "    }\n",
              "</style>\n",
              "<table border=\"1\" class=\"dataframe\">\n",
              "  <thead>\n",
              "    <tr style=\"text-align: right;\">\n",
              "      <th></th>\n",
              "      <th>ckt_id</th>\n",
              "      <th>ckt_amount</th>\n",
              "      <th>buyer_name</th>\n",
              "    </tr>\n",
              "  </thead>\n",
              "  <tbody>\n",
              "    <tr>\n",
              "      <th>0</th>\n",
              "      <td>1</td>\n",
              "      <td>20.00</td>\n",
              "      <td>[SAVMUEJICE, EPHOCP]</td>\n",
              "    </tr>\n",
              "    <tr>\n",
              "      <th>1</th>\n",
              "      <td>2</td>\n",
              "      <td>14.91</td>\n",
              "      <td>[LUHALLAK, ZGANFAP, HAIQAW, VIP, LOHK., CIQTI]</td>\n",
              "    </tr>\n",
              "    <tr>\n",
              "      <th>2</th>\n",
              "      <td>3</td>\n",
              "      <td>13.20</td>\n",
              "      <td>[SUQ, UNAISIE]</td>\n",
              "    </tr>\n",
              "    <tr>\n",
              "      <th>3</th>\n",
              "      <td>4</td>\n",
              "      <td>36.90</td>\n",
              "      <td>[GOZK, BIHKAUT, LIV, LATAPI]</td>\n",
              "    </tr>\n",
              "    <tr>\n",
              "      <th>4</th>\n",
              "      <td>7</td>\n",
              "      <td>26.29</td>\n",
              "      <td>[HUY, ZABIRAN, HATIZAN, WIHMI, IRYIZ, ]</td>\n",
              "    </tr>\n",
              "  </tbody>\n",
              "</table>\n",
              "</div>"
            ],
            "text/plain": [
              "   ckt_id  ckt_amount                                      buyer_name\n",
              "0       1       20.00                            [SAVMUEJICE, EPHOCP]\n",
              "1       2       14.91  [LUHALLAK, ZGANFAP, HAIQAW, VIP, LOHK., CIQTI]\n",
              "2       3       13.20                                  [SUQ, UNAISIE]\n",
              "3       4       36.90                    [GOZK, BIHKAUT, LIV, LATAPI]\n",
              "4       7       26.29         [HUY, ZABIRAN, HATIZAN, WIHMI, IRYIZ, ]"
            ]
          },
          "metadata": {
            "tags": []
          },
          "execution_count": 70
        }
      ]
    },
    {
      "cell_type": "code",
      "metadata": {
        "colab": {
          "base_uri": "https://localhost:8080/"
        },
        "id": "PlWAcXsVDT0s",
        "outputId": "7aae73e6-264d-464d-8479-ca8a4cefe097"
      },
      "source": [
        "check['buyer_name']"
      ],
      "execution_count": null,
      "outputs": [
        {
          "output_type": "execute_result",
          "data": {
            "text/plain": [
              "0                               SAVMUEJICE EPHOCP\n",
              "1         LUHALLAK ZGANFAP HAIQAW VIP LOHK. CIQTI\n",
              "2                                     SUQ UNAISIE\n",
              "3                         GOZK BIHKAUT LIV LATAPI\n",
              "4                HUY ZABIRAN HATIZAN WIHMI IRYIZ \n",
              "                           ...                   \n",
              "239995                     VAQFILAPA JIPTI NORABI\n",
              "239996                JIQI CUWAIVAC FIBQI IFVACIW\n",
              "239997                MFAFHIYAB JIYVI MFAQMUTTIY \n",
              "239998              VAHID DUBRQAVIBA JH FOQL ANAD\n",
              "239999                              HAGOUF GOJBAQ\n",
              "Name: buyer_name, Length: 240000, dtype: object"
            ]
          },
          "metadata": {
            "tags": []
          },
          "execution_count": 36
        }
      ]
    },
    {
      "cell_type": "code",
      "metadata": {
        "colab": {
          "base_uri": "https://localhost:8080/"
        },
        "id": "GC9Z5Jn6DYvf",
        "outputId": "3ee6bd32-eb42-4552-c89e-d01f154f1fc8"
      },
      "source": [
        "def possible_name(desc):\n",
        "  desc = desc.strip()\n",
        "  new_pos = 0\n",
        "  poss_arr = []\n",
        "  space_count = 0\n",
        "  for i in range(0, len(desc)):\n",
        "    if desc[i] == ' ':\n",
        "      space_count = space_count + 1\n",
        "    else:\n",
        "      space_count = 0\n",
        "\n",
        "    if space_count > 1:\n",
        "      poss = desc[new_pos:i].strip()\n",
        "      if poss != '' and poss != 'TRANSFER':\n",
        "        poss_arr.append(poss)\n",
        "      space_count = 0\n",
        "      new_pos = i\n",
        "  poss_arr.append(desc[new_pos:].strip())\n",
        "  return poss_arr\n",
        "\n",
        "import numpy as np\n",
        "def string_match(s, t, ratio_calc = False):\n",
        "    # Initialize matrix of zeros\n",
        "    rows = len(s)+1\n",
        "    cols = len(t)+1\n",
        "    distance = np.zeros((rows,cols),dtype = int)\n",
        "\n",
        "    for i in range(1, rows):\n",
        "        for k in range(1,cols):\n",
        "            distance[i][0] = i\n",
        "            distance[0][k] = k\n",
        "\n",
        "    for col in range(1, cols):\n",
        "        for row in range(1, rows):\n",
        "            if s[row-1] == t[col-1]:\n",
        "                cost = 0 # If the characters are the same in the two strings in a given position [i,j] then the cost is 0\n",
        "            else:\n",
        "              if ratio_calc == True:\n",
        "                    cost = 2\n",
        "              else:\n",
        "                    cost = 1\n",
        "            distance[row][col] = min(distance[row-1][col] + 1,      # Cost of deletions\n",
        "                                 distance[row][col-1] + 1,          # Cost of insertions\n",
        "                                 distance[row-1][col-1] + cost)     # Cost of substitutions\n",
        "    \n",
        "    return ((len(s)+len(t)) - distance[row][col]) / (len(s)+len(t))\n",
        "       \n",
        "def check_name(name, name_arr):\n",
        "  for n in name:\n",
        "    for ar in name_arr:\n",
        "      print(n, ar, string_match(n, ar))\n",
        "possible_name('  TRANSFER   BUDABBSHOPEEAW ZAUGAH ZIFY ')\n",
        "check_name(check_sort.buyer_name.iloc[:25].apply(lambda x: x.split(' '))[4560], bank_sort.desc.apply(possible_name)[127225])"
      ],
      "execution_count": null,
      "outputs": [
        {
          "output_type": "stream",
          "text": [
            "QOVCI QOVCI PICRI APACY SUCF TRANSFER * MWSUCF 0.2222222222222222\n",
            "QOVCI - 0.16666666666666666\n",
            "PICRI QOVCI PICRI APACY SUCF TRANSFER * MWSUCF 0.2222222222222222\n",
            "PICRI - 0.16666666666666666\n",
            "APACY QOVCI PICRI APACY SUCF TRANSFER * MWSUCF 0.2222222222222222\n",
            "APACY - 0.16666666666666666\n"
          ],
          "name": "stdout"
        }
      ]
    },
    {
      "cell_type": "code",
      "metadata": {
        "id": "20vxspgTF0Ep"
      },
      "source": [
        "bank_sort= bank.sort_values(by=['stmt_amount'])\n",
        "check_sort = check.sort_values(by=['ckt_amount'])"
      ],
      "execution_count": null,
      "outputs": []
    },
    {
      "cell_type": "code",
      "metadata": {
        "colab": {
          "base_uri": "https://localhost:8080/"
        },
        "id": "z8vRiT-cPM_z",
        "outputId": "de5fd832-1f93-41ac-8800-2194ffdadcaf"
      },
      "source": [
        "bank_sort.desc.apply(possible_name)[127225]"
      ],
      "execution_count": null,
      "outputs": [
        {
          "output_type": "execute_result",
          "data": {
            "text/plain": [
              "['QOVCI PICRI APACY SUCF TRANSFER * MWSUCF', '-']"
            ]
          },
          "metadata": {
            "tags": []
          },
          "execution_count": 79
        }
      ]
    },
    {
      "cell_type": "code",
      "metadata": {
        "colab": {
          "base_uri": "https://localhost:8080/"
        },
        "id": "pvgYBgJcPTMx",
        "outputId": "f2c0a242-e7b9-47a0-e1dd-cd87686ea9a1"
      },
      "source": [
        "check_sort.buyer_name.iloc[:25].apply(lambda x: x.split(' '))"
      ],
      "execution_count": null,
      "outputs": [
        {
          "output_type": "execute_result",
          "data": {
            "text/plain": [
              "77722                       [WXAKIH, CIN, RAXVAN]\n",
              "69694            [DUX, RAMAXADI, ZIDGI, RUWVICWI]\n",
              "35591                     [IBAXILAY, ACP, LAYGAB]\n",
              "133597     [BUDABBAW, ZAUGAH, ZIFYI, XIH, AXIWIH]\n",
              "167547                           [PAHK, AI, PIHK]\n",
              "205619              [XUT, QADBIBA, WIXDI, NAAQAT]\n",
              "199175                         [SASASQ, ZEHITOSO]\n",
              "217898                 [XAM, JOWAJAB, WARIYRILDI]\n",
              "208502                [BUV, AKIQAZ, LIBKI, IHABI]\n",
              "1764                [GATIBAB, QIGYI, VOBC, WACLI]\n",
              "157594                             [BAJIAB, MOLT]\n",
              "38946                  [TAIDI, ATUQAD, G, GAKEYI]\n",
              "171186                [DAWHIAS, GIMPI, NSADNUHIM]\n",
              "51041                          [JGEP, SGEMH, GAI]\n",
              "10797            [KOOVAWYIXIK, MIKSI, AMHUDDAF, ]\n",
              "223161                           [WOK, PEE, PAQB]\n",
              "217943             [LOQFANENNA, MILZI, YOGT, LOQ]\n",
              "211209              [BORABAG, ZABPEE, JIX, SAPIB]\n",
              "4560                        [QOVCI, PICRI, APACY]\n",
              "219371                   [PUWAPPAM, SINYI, ASLAY]\n",
              "13008                [SAJTUY, HIMHAW, SIZ, IMHAL]\n",
              "182539              [NOQANAT, DATQIW, MIL, QUSIL]\n",
              "165720                           [WUVUS, PAMIXAX]\n",
              "112979                [AFHUK, VAHIX, FIT, ZIQNAT]\n",
              "92790     [NOL, WAQIN, FAWXANAH, ZINQI, AXAKUSIN]\n",
              "Name: buyer_name, dtype: object"
            ]
          },
          "metadata": {
            "tags": []
          },
          "execution_count": 67
        }
      ]
    },
    {
      "cell_type": "code",
      "metadata": {
        "id": "_09o-iA1R6J7"
      },
      "source": [
        ""
      ],
      "execution_count": null,
      "outputs": []
    }
  ]
}